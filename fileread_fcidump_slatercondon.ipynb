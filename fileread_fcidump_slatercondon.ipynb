{
  "nbformat": 4,
  "nbformat_minor": 0,
  "metadata": {
    "colab": {
      "provenance": [],
      "mount_file_id": "19lg3mjQenPy2OLMCW0FaiT-EqhAlvXwt",
      "authorship_tag": "ABX9TyNjo2L+g1tV3Y/NzWVHLpv1"
    },
    "kernelspec": {
      "name": "python3",
      "display_name": "Python 3"
    },
    "language_info": {
      "name": "python"
    }
  },
  "cells": [
    {
      "cell_type": "code",
      "source": [
        "file_path = \"/content/drive/MyDrive/Colab Notebooks/QAE_finite_field/FCIDUMP\"\n",
        "\n",
        "# Read the file and store lines\n",
        "with open(file_path, \"r\") as file:\n",
        "    lines = file.readlines()\n",
        "\n",
        "# Ignore the first 6 lines\n",
        "lines = lines[6:]\n",
        "\n",
        "# Process the remaining lines\n",
        "integral_dict = {}\n",
        "for line in lines:\n",
        "    parts = line.split()\n",
        "    if len(parts) == 5:  # Ensure there are exactly 5 columns\n",
        "        integral_value = float(parts[0])\n",
        "        p, q, r, s = map(int, parts[1:])\n",
        "        key = f\"({p}, {q}, {r}, {s})\"\n",
        "        integral_dict[key] = integral_value\n",
        "\n",
        "# Print the parsed data\n",
        "for key, value in integral_dict.items():\n",
        "    print(f\"{key}: {value}\")\n",
        "\n"
      ],
      "metadata": {
        "id": "WJMm64b0x0Yd",
        "colab": {
          "base_uri": "https://localhost:8080/"
        },
        "outputId": "43d543ad-0d18-4037-ed91-d809c45d27d7"
      },
      "execution_count": 28,
      "outputs": [
        {
          "output_type": "stream",
          "name": "stdout",
          "text": [
            "(1, 1, 1, 1): 0.6757101469938736\n",
            "(2, 2, 2, 2): 0.6757101469938736\n",
            "(1, 1, 3, 3): 0.6645817196308036\n",
            "(2, 2, 4, 4): 0.6645817196308036\n",
            "(3, 1, 3, 1): 0.1809311953690519\n",
            "(4, 2, 4, 2): 0.1809311953690519\n",
            "(3, 1, 1, 3): 0.1809311953690519\n",
            "(4, 2, 2, 4): 0.1809311953690519\n",
            "(1, 3, 3, 1): 0.180931195369052\n",
            "(2, 4, 4, 2): 0.180931195369052\n",
            "(1, 3, 1, 3): 0.180931195369052\n",
            "(2, 4, 2, 4): 0.180931195369052\n",
            "(3, 3, 1, 1): 0.6645817196308038\n",
            "(4, 4, 2, 2): 0.6645817196308038\n",
            "(3, 3, 3, 3): 0.6985737090029313\n",
            "(4, 4, 4, 4): 0.6985737090029313\n",
            "(1, 1, 0, 0): -1.2563390698650005\n",
            "(1, 3, 0, 0): -1.7322220230154555e-17\n",
            "(1, 2, 0, 0): 0.0\n",
            "(1, 4, 0, 0): 0.0\n",
            "(3, 1, 0, 0): -1.5577070953811113e-17\n",
            "(3, 3, 0, 0): -0.47189601989248603\n",
            "(3, 2, 0, 0): 0.0\n",
            "(3, 4, 0, 0): 0.0\n",
            "(2, 1, 0, 0): 0.0\n",
            "(2, 3, 0, 0): 0.0\n",
            "(2, 2, 0, 0): -1.2563390698650005\n",
            "(2, 4, 0, 0): -1.7322220230154555e-17\n",
            "(4, 1, 0, 0): 0.0\n",
            "(4, 3, 0, 0): 0.0\n",
            "(4, 2, 0, 0): -1.5577070953811113e-17\n",
            "(4, 4, 0, 0): -0.47189601989248603\n",
            "(1, 0, 0, 0): -0.580628922871127\n",
            "(3, 0, 0, 0): 0.6763362240000695\n",
            "(2, 0, 0, 0): -0.580628922871127\n",
            "(4, 0, 0, 0): 0.6763362240000695\n",
            "(0, 0, 0, 0): 0.7199689944258503\n"
          ]
        }
      ]
    },
    {
      "cell_type": "code",
      "source": [
        "#Calculation of HF energy\n",
        "sum_one = 0\n",
        "sum_two = 0\n",
        "ref_state = [0,2]\n",
        "for i in ref_state:\n",
        "    sum_one += integral_dict[f\"({i+1}, {i+1}, {0}, {0})\"]\n",
        "    print(f\"({i+1}, {i+1}, {0}, {0})\")\n",
        "\n",
        "print(\"One electron contribution:\", sum_one,\"\\n\")\n",
        "\n",
        "sum_two = 0\n",
        "for i in ref_state:\n",
        "    for j in ref_state:\n",
        "        if i != j:\n",
        "            try:\n",
        "                sum_two += (integral_dict[f\"({i+1}, {i+1}, {j+1}, {j+1})\"] -\n",
        "                            integral_dict[f\"({i+1}, {j+1}, {j+1}, {i+1})\"])\n",
        "                print(f\"0.5*({i+1}, {i+1}, {j+1}, {j+1})-({i+1}, {j+1}, {j+1}, {i+1})\")\n",
        "            except KeyError:\n",
        "                pass  # Ignore the error and continue\n",
        "\n",
        "print(\"Two electron contribution:\", sum_two, \"\\n\")\n",
        "print(\"HF energy:\", sum_one+(0.5*sum_two))"
      ],
      "metadata": {
        "colab": {
          "base_uri": "https://localhost:8080/"
        },
        "id": "50HwTNLoKHqJ",
        "outputId": "157d9a78-6cd3-4688-e456-4e75d02806c3"
      },
      "execution_count": 75,
      "outputs": [
        {
          "output_type": "stream",
          "name": "stdout",
          "text": [
            "(1, 1, 0, 0)\n",
            "(3, 3, 0, 0)\n",
            "One electron contribution: -1.7282350897574865 \n",
            "\n",
            "0.5*(1, 1, 3, 3)-(1, 3, 3, 1)\n",
            "0.5*(3, 3, 1, 1)-(3, 1, 1, 3)\n",
            "Two electron contribution: 0.9673010485235035 \n",
            "\n",
            "HF energy: -1.2445845654957348\n"
          ]
        }
      ]
    },
    {
      "cell_type": "code",
      "source": [
        "state_bra = [1, 2]  # state corresponding to bra\n",
        "state_ket = [1, 3]  # state corresponding to ket\n",
        "\n",
        "# Find common elements\n",
        "common = list(set(state_bra) & set(state_ket))\n",
        "difference = list(set(state_ket) - set(state_bra))\n",
        "print(difference)\n",
        "# Compute the difference count\n",
        "diff = (len(state_bra) + len(state_ket) - 2 * len(common)) // 2\n",
        "\n",
        "print(\"Difference counts:\", diff)\n",
        "print(\"Common elements:\", common)\n",
        "\n",
        "sum_one  = 0\n",
        "sum_two = 0\n",
        "for i in common:\n",
        "    for j in difference:\n",
        "        sum_one += integral_dict[f\"({i+1}, {j+1}, {0}, {0})\"]\n",
        "        print(f\"({i+1}, {j+1}, {0}, {0})\")\n",
        "print(sum_one)\n",
        "\n",
        "for i in state_bra:\n",
        "    for j in common:\n",
        "        for k in difference:\n",
        "            try:\n",
        "                sum_two += integral_dict[f\"({j+1}, {k+1}, {i+1}, {i+1})\"]-integral_dict[f\"({j+1}, {i+1}, {i+1}, {k+1})\"]\n",
        "            except KeyError:\n",
        "                pass  # Ignore the error and continue\n",
        "    print(f\"({i+1}, {i+1}, {0}, {0})\")\n",
        "print(sum_two)"
      ],
      "metadata": {
        "colab": {
          "base_uri": "https://localhost:8080/"
        },
        "id": "6W-u8P88fhhn",
        "outputId": "717efe22-4814-4100-dec1-bd15fed047db"
      },
      "execution_count": 95,
      "outputs": [
        {
          "output_type": "stream",
          "name": "stdout",
          "text": [
            "[3]\n",
            "Difference counts: 1\n",
            "Common elements: [1]\n",
            "(2, 4, 0, 0)\n",
            "-1.7322220230154555e-17\n",
            "(2, 2, 0, 0)\n",
            "(3, 3, 0, 0)\n",
            "0\n"
          ]
        }
      ]
    }
  ]
}