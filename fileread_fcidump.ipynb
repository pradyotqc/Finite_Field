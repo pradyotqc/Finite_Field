{
  "nbformat": 4,
  "nbformat_minor": 0,
  "metadata": {
    "colab": {
      "provenance": [],
      "mount_file_id": "1V1VeREnYQThYmREGoUWaJBytpnOVLHLb",
      "authorship_tag": "ABX9TyPuFPLDkJ6tpdCjjnTRfk53"
    },
    "kernelspec": {
      "name": "python3",
      "display_name": "Python 3"
    },
    "language_info": {
      "name": "python"
    }
  },
  "cells": [
    {
      "cell_type": "code",
      "source": [
        "!pip install -q pyscf"
      ],
      "metadata": {
        "colab": {
          "base_uri": "https://localhost:8080/"
        },
        "id": "O5npLbXgpZHz",
        "outputId": "d56feb78-b72f-4a8c-9543-dde49433c7f8"
      },
      "execution_count": 1,
      "outputs": [
        {
          "output_type": "stream",
          "name": "stdout",
          "text": [
            "\u001b[2K   \u001b[90m━━━━━━━━━━━━━━━━━━━━━━━━━━━━━━━━━━━━━━━━\u001b[0m \u001b[32m50.9/50.9 MB\u001b[0m \u001b[31m8.1 MB/s\u001b[0m eta \u001b[36m0:00:00\u001b[0m\n",
            "\u001b[?25h"
          ]
        }
      ]
    },
    {
      "cell_type": "code",
      "source": [
        "file_path = \"/content/drive/MyDrive/Colab Notebooks/QAE_finite_field/FCIDUMP\"\n",
        "\n",
        "# Read the file and store lines\n",
        "with open(file_path, \"r\") as file:\n",
        "    lines = file.readlines()\n",
        "\n",
        "# Ignore the first 6 lines\n",
        "lines = lines[6:]\n",
        "\n",
        "# Process the remaining lines\n",
        "parsed_data = []\n",
        "for line in lines:\n",
        "    parts = line.split()\n",
        "    if len(parts) == 5:  # Ensure there are exactly 5 columns\n",
        "        integral_value = float(parts[0])\n",
        "        p, q, r, s = map(int, parts[1:])\n",
        "        parsed_data.append([integral_value, p, q, r, s])\n",
        "        print(f\"Integral Value: {integral_value}, p: {p}, q: {q}, r: {r}, s: {s}\")\n",
        "\n",
        "# Save the parsed data to a new file\n",
        "output_path = \"/content/drive/MyDrive/Colab Notebooks/QAE_finite_field/FCIDUMP_out\"\n",
        "with open(output_path, \"w\") as file:\n",
        "    for data in parsed_data:\n",
        "        file.write(f\"{data[0]} {data[1]} {data[2]} {data[3]} {data[4]}\\n\")\n",
        "\n",
        "print(f\"Parsed file saved at: {output_path}\")\n"
      ],
      "metadata": {
        "id": "WJMm64b0x0Yd",
        "colab": {
          "base_uri": "https://localhost:8080/"
        },
        "outputId": "8d458d79-5cfb-4e30-f148-dcb78f378a3c"
      },
      "execution_count": 2,
      "outputs": [
        {
          "output_type": "stream",
          "name": "stdout",
          "text": [
            "Integral Value: 0.6757101469938736, p: 1, q: 1, r: 1, s: 1\n",
            "Integral Value: 0.6757101469938736, p: 2, q: 2, r: 2, s: 2\n",
            "Integral Value: 0.6645817196308036, p: 1, q: 1, r: 3, s: 3\n",
            "Integral Value: 0.6645817196308036, p: 2, q: 2, r: 4, s: 4\n",
            "Integral Value: 0.1809311953690519, p: 3, q: 1, r: 3, s: 1\n",
            "Integral Value: 0.1809311953690519, p: 4, q: 2, r: 4, s: 2\n",
            "Integral Value: 0.1809311953690519, p: 3, q: 1, r: 1, s: 3\n",
            "Integral Value: 0.1809311953690519, p: 4, q: 2, r: 2, s: 4\n",
            "Integral Value: 0.180931195369052, p: 1, q: 3, r: 3, s: 1\n",
            "Integral Value: 0.180931195369052, p: 2, q: 4, r: 4, s: 2\n",
            "Integral Value: 0.180931195369052, p: 1, q: 3, r: 1, s: 3\n",
            "Integral Value: 0.180931195369052, p: 2, q: 4, r: 2, s: 4\n",
            "Integral Value: 0.6645817196308038, p: 3, q: 3, r: 1, s: 1\n",
            "Integral Value: 0.6645817196308038, p: 4, q: 4, r: 2, s: 2\n",
            "Integral Value: 0.6985737090029313, p: 3, q: 3, r: 3, s: 3\n",
            "Integral Value: 0.6985737090029313, p: 4, q: 4, r: 4, s: 4\n",
            "Integral Value: -1.2563390698650005, p: 1, q: 1, r: 0, s: 0\n",
            "Integral Value: -1.7322220230154555e-17, p: 1, q: 3, r: 0, s: 0\n",
            "Integral Value: 0.0, p: 1, q: 2, r: 0, s: 0\n",
            "Integral Value: 0.0, p: 1, q: 4, r: 0, s: 0\n",
            "Integral Value: -1.5577070953811113e-17, p: 3, q: 1, r: 0, s: 0\n",
            "Integral Value: -0.47189601989248603, p: 3, q: 3, r: 0, s: 0\n",
            "Integral Value: 0.0, p: 3, q: 2, r: 0, s: 0\n",
            "Integral Value: 0.0, p: 3, q: 4, r: 0, s: 0\n",
            "Integral Value: 0.0, p: 2, q: 1, r: 0, s: 0\n",
            "Integral Value: 0.0, p: 2, q: 3, r: 0, s: 0\n",
            "Integral Value: -1.2563390698650005, p: 2, q: 2, r: 0, s: 0\n",
            "Integral Value: -1.7322220230154555e-17, p: 2, q: 4, r: 0, s: 0\n",
            "Integral Value: 0.0, p: 4, q: 1, r: 0, s: 0\n",
            "Integral Value: 0.0, p: 4, q: 3, r: 0, s: 0\n",
            "Integral Value: -1.5577070953811113e-17, p: 4, q: 2, r: 0, s: 0\n",
            "Integral Value: -0.47189601989248603, p: 4, q: 4, r: 0, s: 0\n",
            "Integral Value: -0.580628922871127, p: 1, q: 0, r: 0, s: 0\n",
            "Integral Value: 0.6763362240000695, p: 3, q: 0, r: 0, s: 0\n",
            "Integral Value: -0.580628922871127, p: 2, q: 0, r: 0, s: 0\n",
            "Integral Value: 0.6763362240000695, p: 4, q: 0, r: 0, s: 0\n",
            "Integral Value: 0.7199689944258503, p: 0, q: 0, r: 0, s: 0\n",
            "Parsed file saved at: /content/drive/MyDrive/Colab Notebooks/QAE_finite_field/FCIDUMP_out\n"
          ]
        }
      ]
    },
    {
      "cell_type": "code",
      "source": [
        "# Read the file and store lines\n",
        "with open(file_path, \"r\") as file:\n",
        "    lines = file.readlines()\n",
        "\n",
        "# Extract the first 6 lines as metadata\n",
        "metadata = {}\n",
        "for line in lines[:6]:\n",
        "    key_value = line.strip().split('=')\n",
        "    if len(key_value) == 2:\n",
        "        key, value = key_value[0].strip(), key_value[1].strip().rstrip(',')\n",
        "        if key == \"ORBSYM\":\n",
        "            metadata[key] = str([int(x) for x in value.split(',')])\n",
        "        else:\n",
        "            metadata[key] = int(value)\n",
        "            # print(key, value)\n",
        "\n",
        "# Ignore the first 6 lines for integral data processing\n",
        "lines = lines[6:]\n",
        "integral_dict ={}\n",
        "# Process the remaining lines\n",
        "parsed_data = []\n",
        "for line in lines:\n",
        "    parts = line.split()\n",
        "    if len(parts) == 5:  # Ensure there are exactly 5 columns\n",
        "        integral_value = float(parts[0])\n",
        "        p, q, r, s = map(int, parts[1:])\n",
        "        parsed_data.append([integral_value, p, q, r, s])\n",
        "\n",
        "\n",
        "output_path = \"/content/drive/MyDrive/Colab Notebooks/QAE_finite_field/FCIDUMP_out2\"\n",
        "with open(output_path, \"w\") as file:\n",
        "    # Write metadata\n",
        "    for key, value in metadata.items():\n",
        "        file.write(f\"{key}={value}\\n\")\n",
        "    file.write(\"\\n\")  # Separate metadata and integral data\n",
        "    # Write integral data\n",
        "    for data in parsed_data:\n",
        "        file.write(f\"{data[0]} {data[1]} {data[2]} {data[3]} {data[4]}\\n\")\n",
        "\n",
        "print(f\"Parsed file saved at: {output_path}\")\n"
      ],
      "metadata": {
        "id": "JDljS5C_z4pd"
      },
      "execution_count": 21,
      "outputs": []
    },
    {
      "cell_type": "code",
      "source": [
        "print(metadata)"
      ],
      "metadata": {
        "id": "1WwC5BXvz_mT",
        "colab": {
          "base_uri": "https://localhost:8080/"
        },
        "outputId": "df7e0f8d-7286-4e2b-c5a3-8aa8d4c4551e"
      },
      "execution_count": 22,
      "outputs": [
        {
          "output_type": "stream",
          "name": "stdout",
          "text": [
            "{'&FCI NORB': 4, 'NELEC': 2, 'ORBSYM': '[1, 1, 2, 2]', 'ISYM': 8, 'IUHF': 1}\n"
          ]
        }
      ]
    },
    {
      "cell_type": "code",
      "source": [
        "from itertools import permutations\n",
        "\n",
        "# Compute HF state and generate all permutations\n",
        "NORB = metadata['&FCI NORB']\n",
        "NELEC = metadata['NELEC']\n",
        "\n",
        "# Generate initial HF state with NELEC ones and remaining zeros\n",
        "hf_state = \"1\" * NELEC + \"0\" * (NORB - NELEC)\n",
        "\n",
        "# Generate all unique permutations of the HF state\n",
        "unique_states = sorted(set(\"\".join(p) for p in permutations(hf_state)))\n",
        "\n",
        "# Print the generated states separately\n",
        "print(\"HF State:\", hf_state)\n",
        "print(\"Generated States:\")\n",
        "for state in unique_states:\n",
        "    print(state)\n"
      ],
      "metadata": {
        "id": "w4V7XaNs1fFl",
        "colab": {
          "base_uri": "https://localhost:8080/"
        },
        "outputId": "370dd145-8a03-4b56-c250-3a80501f47fe"
      },
      "execution_count": 23,
      "outputs": [
        {
          "output_type": "stream",
          "name": "stdout",
          "text": [
            "HF State: 1100\n",
            "Generated States:\n",
            "0011\n",
            "0101\n",
            "0110\n",
            "1001\n",
            "1010\n",
            "1100\n"
          ]
        }
      ]
    },
    {
      "cell_type": "code",
      "source": [
        "# print(parsed_data)"
      ],
      "metadata": {
        "id": "i0UE-8GNT6ak"
      },
      "execution_count": 25,
      "outputs": []
    },
    {
      "cell_type": "code",
      "source": [
        "integral_data = []\n",
        "for data in parsed_data:\n",
        "\n",
        "    if data[3] == 0 and data[4]==0:\n",
        "        break\n",
        "    print(data)\n",
        "    integral_data.append(data)\n"
      ],
      "metadata": {
        "id": "WtjQ8As_UEV1",
        "colab": {
          "base_uri": "https://localhost:8080/"
        },
        "outputId": "8e461482-d468-4bdc-8bf7-fd78ee1c3aec"
      },
      "execution_count": 26,
      "outputs": [
        {
          "output_type": "stream",
          "name": "stdout",
          "text": [
            "[0.6757101469938736, 1, 1, 1, 1]\n",
            "[0.6757101469938736, 2, 2, 2, 2]\n",
            "[0.6645817196308036, 1, 1, 3, 3]\n",
            "[0.6645817196308036, 2, 2, 4, 4]\n",
            "[0.1809311953690519, 3, 1, 3, 1]\n",
            "[0.1809311953690519, 4, 2, 4, 2]\n",
            "[0.1809311953690519, 3, 1, 1, 3]\n",
            "[0.1809311953690519, 4, 2, 2, 4]\n",
            "[0.180931195369052, 1, 3, 3, 1]\n",
            "[0.180931195369052, 2, 4, 4, 2]\n",
            "[0.180931195369052, 1, 3, 1, 3]\n",
            "[0.180931195369052, 2, 4, 2, 4]\n",
            "[0.6645817196308038, 3, 3, 1, 1]\n",
            "[0.6645817196308038, 4, 4, 2, 2]\n",
            "[0.6985737090029313, 3, 3, 3, 3]\n",
            "[0.6985737090029313, 4, 4, 4, 4]\n"
          ]
        }
      ]
    },
    {
      "cell_type": "code",
      "source": [
        "list(unique_states[0])"
      ],
      "metadata": {
        "id": "aKlBEQNGendr",
        "colab": {
          "base_uri": "https://localhost:8080/"
        },
        "outputId": "ee1613fc-ad0b-49b7-a605-8fe0423f1451"
      },
      "execution_count": 8,
      "outputs": [
        {
          "output_type": "execute_result",
          "data": {
            "text/plain": [
              "['0', '0', '1', '1']"
            ]
          },
          "metadata": {},
          "execution_count": 8
        }
      ]
    },
    {
      "cell_type": "code",
      "source": [
        "# # state = list(unique_states[0])  # Convert string to list\n",
        "# # Action of two integral operator\n",
        "# state  = ['0', '1', '1', '0']\n",
        "# print(state)\n",
        "# print(\"Initial State:\", \"\".join(state))\n",
        "\n",
        "# operator = [1,1,2,3,4]\n",
        "# print(\"Operator:\", operator)\n",
        "\n",
        "# print(\"----------------------------------------\\n\\n\")\n",
        "# sign = 1\n",
        "# for i in range(4, 0, -1):\n",
        "#     # Count the number of '1's before index (operator[i] - 1)\n",
        "#     num_ones = state[:operator[i] - 1].count(\"1\")\n",
        "#     if i == 3 or i == 4:\n",
        "#         # print(operator[i], \"\".join(state))  # Print state as string\n",
        "#         if state[operator[i] - 1] == \"1\":\n",
        "#             sign *= (-1) ** num_ones  # Apply phase factor\n",
        "#             state[operator[i] - 1] = \"0\"\n",
        "#         else:\n",
        "#             sign *= 0\n",
        "#             # break\n",
        "#     else:\n",
        "#         # print(operator[i], \"\".join(state))  # Print state as string\n",
        "#         if state[operator[i] - 1] == \"0\":\n",
        "#             sign *= (-1) ** num_ones  # Apply phase factor\n",
        "#             state[operator[i] - 1] = \"1\"\n",
        "#         else:\n",
        "#             sign *= 0\n",
        "#             # break\n",
        "#     print(\"Modified State:\", \"\".join(state), sign, \"\\n\")  # Print state as string\n",
        "\n",
        "# print(state)\n"
      ],
      "metadata": {
        "id": "_D23Cy8-Uzlk"
      },
      "execution_count": 28,
      "outputs": []
    },
    {
      "cell_type": "code",
      "source": [
        "# Action of one body and two body operator on the state\n",
        "def action(operator, state):\n",
        "    sign = 1\n",
        "    if operator[-1]==0 or operator[-2]==0:\n",
        "        # print(\"onebody operator\")\n",
        "        for i in range(2, 0,-1):\n",
        "            # Count the number of '1's before index (operator[i] - 1)\n",
        "            num_ones = state[:operator[i] - 1].count(\"1\")\n",
        "            # print(i, operator[i])\n",
        "            if i==2:\n",
        "                if state[operator[i]-1]==\"1\":\n",
        "                    sign *= (-1)**num_ones\n",
        "                    state[operator[i]-1]=\"0\"\n",
        "                else:\n",
        "                    sign *= 0\n",
        "\n",
        "            else:\n",
        "                if state[operator[i]-1]==\"0\":\n",
        "                    sign *= (-1)**num_ones\n",
        "                    state[operator[i]-1]=\"1\"\n",
        "                else:\n",
        "                    sign *= 0\n",
        "            # print(\"Modified State:\", \"\".join(state), sign, \"\\n\")\n",
        "    else:\n",
        "        # print(\"twobody operator\")\n",
        "        for i in range(4, 0, -1):\n",
        "            # Count the number of '1's before index (operator[i] - 1)\n",
        "            num_ones = state[:operator[i] - 1].count(\"1\")\n",
        "            if i == 3 or i == 4:\n",
        "                # print(operator[i], \"\".join(state))  # Print state as string\n",
        "                if state[operator[i] - 1] == \"1\":\n",
        "                    sign *= (-1) ** num_ones  # Apply phase factor\n",
        "                    state[operator[i] - 1] = \"0\"\n",
        "                else:\n",
        "                    sign *= 0\n",
        "                    # break\n",
        "            else:\n",
        "                # print(operator[i], \"\".join(state))  # Print state as string\n",
        "                if state[operator[i] - 1] == \"0\":\n",
        "                    sign *= (-1) ** num_ones  # Apply phase factor\n",
        "                    state[operator[i] - 1] = \"1\"\n",
        "                else:\n",
        "                    sign *= 0\n",
        "                    # break\n",
        "            # print(\"Modified State:\", \"\".join(state), sign, \"\\n\")  # Print state as string\n",
        "        sign = sign * (-1)\n",
        "    return state, sign"
      ],
      "metadata": {
        "id": "c6VM7MJG1CM4"
      },
      "execution_count": 33,
      "outputs": []
    },
    {
      "cell_type": "code",
      "source": [
        "# state = list(unique_states[0])  # Convert string to list\n",
        "state  = ['0', '1', '1', '0']\n",
        "print(state)\n",
        "print(\"Initial State:\", \"\".join(state))\n",
        "\n",
        "operator = [1,1,2,0,0]\n",
        "print(\"Operator:\", operator)\n",
        "\n",
        "print(\"----------------------------------------\\n\\n\")\n",
        "state, sign = action(operator, state)\n",
        "print(state)\n",
        "print(sign)"
      ],
      "metadata": {
        "colab": {
          "base_uri": "https://localhost:8080/"
        },
        "id": "dgz_eHks1GNl",
        "outputId": "224135e5-93cf-43a5-b95a-f84489b7ecc2"
      },
      "execution_count": 32,
      "outputs": [
        {
          "output_type": "stream",
          "name": "stdout",
          "text": [
            "['0', '1', '1', '0']\n",
            "Initial State: 0110\n",
            "Operator: [1, 1, 2, 0, 0]\n",
            "----------------------------------------\n",
            "\n",
            "\n",
            "['1', '0', '1', '0']\n",
            "1\n"
          ]
        }
      ]
    },
    {
      "cell_type": "code",
      "source": [
        "#Testing of the matrix element calculation\n",
        "state1 = ['0', '0', '1', '1']\n",
        "state2 = ['1', '0', '1', '0']\n",
        "operator = [0.656656, 1, 4, 0, 0]\n",
        "def overlap(state_1, state_2, operator):\n",
        "    # print(state_1, state_2)\n",
        "    state_1, sign_1 = action(operator, state_1)\n",
        "    # state_2, sign_2 = action(operator, list(state_2))\n",
        "    # print(state_1, sign_1)\n",
        "    if state_1==state_2:\n",
        "        # print(\"sign\", sign_1)\n",
        "        # print(\"Sign Of Operation: \", sign_1)\n",
        "        return sign_1 * operator[0]\n",
        "    else:\n",
        "        return 0\n",
        "    # print(state_1, state_2)\n",
        "\n",
        "value  = overlap(state1, state2, operator=operator)\n",
        "value"
      ],
      "metadata": {
        "id": "7WQ4DLuJBSCr",
        "colab": {
          "base_uri": "https://localhost:8080/"
        },
        "outputId": "9a3dfc6d-e520-4f1e-86f5-b3738ac01b6e"
      },
      "execution_count": 36,
      "outputs": [
        {
          "output_type": "execute_result",
          "data": {
            "text/plain": [
              "-0.656656"
            ]
          },
          "metadata": {},
          "execution_count": 36
        }
      ]
    },
    {
      "cell_type": "code",
      "source": [
        "#One and two body operator for H2 molecule\n",
        "\n",
        "integral_data = []\n",
        "for data in parsed_data:\n",
        "\n",
        "    if data[2] == 0:\n",
        "        break\n",
        "    print(data)\n",
        "    integral_data.append(data)"
      ],
      "metadata": {
        "id": "i6eFQoD6RETV",
        "colab": {
          "base_uri": "https://localhost:8080/"
        },
        "outputId": "219a9382-f999-4027-ce54-afe644049938"
      },
      "execution_count": 38,
      "outputs": [
        {
          "output_type": "stream",
          "name": "stdout",
          "text": [
            "[0.6757101469938736, 1, 1, 1, 1]\n",
            "[0.6757101469938736, 2, 2, 2, 2]\n",
            "[0.6645817196308036, 1, 1, 3, 3]\n",
            "[0.6645817196308036, 2, 2, 4, 4]\n",
            "[0.1809311953690519, 3, 1, 3, 1]\n",
            "[0.1809311953690519, 4, 2, 4, 2]\n",
            "[0.1809311953690519, 3, 1, 1, 3]\n",
            "[0.1809311953690519, 4, 2, 2, 4]\n",
            "[0.180931195369052, 1, 3, 3, 1]\n",
            "[0.180931195369052, 2, 4, 4, 2]\n",
            "[0.180931195369052, 1, 3, 1, 3]\n",
            "[0.180931195369052, 2, 4, 2, 4]\n",
            "[0.6645817196308038, 3, 3, 1, 1]\n",
            "[0.6645817196308038, 4, 4, 2, 2]\n",
            "[0.6985737090029313, 3, 3, 3, 3]\n",
            "[0.6985737090029313, 4, 4, 4, 4]\n",
            "[-1.2563390698650005, 1, 1, 0, 0]\n",
            "[-1.7322220230154555e-17, 1, 3, 0, 0]\n",
            "[0.0, 1, 2, 0, 0]\n",
            "[0.0, 1, 4, 0, 0]\n",
            "[-1.5577070953811113e-17, 3, 1, 0, 0]\n",
            "[-0.47189601989248603, 3, 3, 0, 0]\n",
            "[0.0, 3, 2, 0, 0]\n",
            "[0.0, 3, 4, 0, 0]\n",
            "[0.0, 2, 1, 0, 0]\n",
            "[0.0, 2, 3, 0, 0]\n",
            "[-1.2563390698650005, 2, 2, 0, 0]\n",
            "[-1.7322220230154555e-17, 2, 4, 0, 0]\n",
            "[0.0, 4, 1, 0, 0]\n",
            "[0.0, 4, 3, 0, 0]\n",
            "[-1.5577070953811113e-17, 4, 2, 0, 0]\n",
            "[-0.47189601989248603, 4, 4, 0, 0]\n"
          ]
        }
      ]
    },
    {
      "cell_type": "code",
      "source": [
        "#Calculation of Matrix element\n",
        "# import the library\n",
        "import numpy as np\n",
        "\n",
        "# Here 4 is the number of rows and 2\n",
        "# is the number of columns\n",
        "hamiltonian = np.empty((len(unique_states), len(unique_states)))\n",
        "\n",
        "for i, states_1 in enumerate(unique_states):\n",
        "    # print(list(states_1))\n",
        "    for j, states_2 in enumerate(unique_states):\n",
        "        sum = 0\n",
        "        for ops in integral_data:\n",
        "            value  = overlap(list(states_1), list(states_2), ops)\n",
        "            sum += value\n",
        "        hamiltonian[i][j] = sum\n",
        "        # print(list(states_1), list(states_2), integral_data[0])\n",
        "        value  = overlap(list(states_1), list(states_2), integral_data[0])\n",
        "        # print(sum, \"\\n\")\n",
        "        # print(states_1, states_2)\n",
        "\n"
      ],
      "metadata": {
        "id": "D4NepFNJiAL2"
      },
      "execution_count": 40,
      "outputs": []
    },
    {
      "cell_type": "code",
      "source": [
        "hamiltonian"
      ],
      "metadata": {
        "id": "-KR6IY4djryE",
        "colab": {
          "base_uri": "https://localhost:8080/"
        },
        "outputId": "449aae64-ddbb-4531-bf81-ef1887890106"
      },
      "execution_count": 41,
      "outputs": [
        {
          "output_type": "execute_result",
          "data": {
            "text/plain": [
              "array([[-9.43792040e-01,  0.00000000e+00,  1.73222202e-17,\n",
              "        -1.73222202e-17,  0.00000000e+00,  0.00000000e+00],\n",
              "       [ 0.00000000e+00, -1.72823509e+00,  0.00000000e+00,\n",
              "         0.00000000e+00,  0.00000000e+00,  0.00000000e+00],\n",
              "       [ 1.55770710e-17,  0.00000000e+00, -1.72823509e+00,\n",
              "         0.00000000e+00,  0.00000000e+00,  1.73222202e-17],\n",
              "       [-1.55770710e-17,  0.00000000e+00,  0.00000000e+00,\n",
              "        -1.72823509e+00,  0.00000000e+00, -1.73222202e-17],\n",
              "       [ 0.00000000e+00,  0.00000000e+00,  0.00000000e+00,\n",
              "         0.00000000e+00, -1.72823509e+00,  0.00000000e+00],\n",
              "       [ 0.00000000e+00,  0.00000000e+00,  1.55770710e-17,\n",
              "        -1.55770710e-17,  0.00000000e+00, -2.51267814e+00]])"
            ]
          },
          "metadata": {},
          "execution_count": 41
        }
      ]
    },
    {
      "cell_type": "code",
      "source": [
        "from scipy.linalg import eigh\n",
        "eignvalue , eignvector = eigh(hamiltonian)\n",
        "print(eignvalue)"
      ],
      "metadata": {
        "id": "RDdXQygewBzm",
        "colab": {
          "base_uri": "https://localhost:8080/"
        },
        "outputId": "f6b7cce2-4ad2-4281-dd49-c1b542fca933"
      },
      "execution_count": 42,
      "outputs": [
        {
          "output_type": "stream",
          "name": "stdout",
          "text": [
            "[-2.51267814 -1.72823509 -1.72823509 -1.72823509 -1.72823509 -0.94379204]\n"
          ]
        }
      ]
    },
    {
      "cell_type": "code",
      "source": [
        "from pyscf.tools import fcidump\n",
        "\n",
        "# Load the FCIDUMP file\n",
        "fcidump_data = fcidump.read(file_path)"
      ],
      "metadata": {
        "id": "FUece9WQJtOB",
        "colab": {
          "base_uri": "https://localhost:8080/"
        },
        "outputId": "5d6e6fcb-e44d-4f9e-c459-bbdef3c1e336"
      },
      "execution_count": 43,
      "outputs": [
        {
          "output_type": "stream",
          "name": "stdout",
          "text": [
            "Parsing /content/drive/MyDrive/Colab Notebooks/QAE_finite_field/FCIDUMP\n"
          ]
        }
      ]
    },
    {
      "cell_type": "code",
      "source": [
        "fcidump_data"
      ],
      "metadata": {
        "colab": {
          "base_uri": "https://localhost:8080/"
        },
        "id": "Lt9xRjk0p1kk",
        "outputId": "baaabe95-005c-4ecc-bc4c-ed5f03ed4835"
      },
      "execution_count": 44,
      "outputs": [
        {
          "output_type": "execute_result",
          "data": {
            "text/plain": [
              "{'NORB': 4,\n",
              " 'NELEC': 2,\n",
              " 'ORBSYM': [1, 1, 2, 2],\n",
              " 'ISYM': 8,\n",
              " 'IUHF': '1,',\n",
              " 'ECORE': 0.7199689944258503,\n",
              " 'H1': array([[-1.25633907e+00,  0.00000000e+00, -1.73222202e-17,\n",
              "          0.00000000e+00],\n",
              "        [ 0.00000000e+00, -1.25633907e+00,  0.00000000e+00,\n",
              "         -1.73222202e-17],\n",
              "        [-1.55770710e-17,  0.00000000e+00, -4.71896020e-01,\n",
              "          0.00000000e+00],\n",
              "        [ 0.00000000e+00, -1.55770710e-17,  0.00000000e+00,\n",
              "         -4.71896020e-01]]),\n",
              " 'H2': array([0.67571015, 0.        , 0.        , 0.        , 0.        ,\n",
              "        0.67571015, 0.        , 0.        , 0.        , 0.1809312 ,\n",
              "        0.        , 0.        , 0.        , 0.        , 0.        ,\n",
              "        0.66458172, 0.        , 0.        , 0.        , 0.        ,\n",
              "        0.69857371, 0.        , 0.        , 0.        , 0.        ,\n",
              "        0.        , 0.        , 0.        , 0.        , 0.        ,\n",
              "        0.        , 0.        , 0.        , 0.        , 0.        ,\n",
              "        0.1809312 , 0.        , 0.        , 0.        , 0.        ,\n",
              "        0.        , 0.        , 0.        , 0.        , 0.        ,\n",
              "        0.        , 0.        , 0.66458172, 0.        , 0.        ,\n",
              "        0.        , 0.        , 0.        , 0.        , 0.69857371])}"
            ]
          },
          "metadata": {},
          "execution_count": 44
        }
      ]
    },
    {
      "cell_type": "code",
      "source": [
        "import pyscf\n",
        "\n",
        "mol = pyscf.M(\n",
        "    atom = 'H 0 0 0; H 0 0 0.735',  # in Angstrom\n",
        "    basis = '6-31g',\n",
        "    symmetry = True,\n",
        ")\n",
        "myhf = mol.RHF().run()\n",
        "\n",
        "#\n",
        "# create an FCI solver based on the SCF object\n",
        "#\n",
        "cisolver = pyscf.fci.FCI(myhf)\n",
        "\n",
        "print('E(FCI) = %.12f' % cisolver.kernel()[0])"
      ],
      "metadata": {
        "colab": {
          "base_uri": "https://localhost:8080/"
        },
        "id": "ut-Qm7Ivz1iN",
        "outputId": "55ec6e35-c69f-48cb-f6a8-13c1325cc444"
      },
      "execution_count": 45,
      "outputs": [
        {
          "output_type": "stream",
          "name": "stdout",
          "text": [
            "converged SCF energy = -1.12680935812799\n",
            "E(FCI) = -1.151614319937\n"
          ]
        }
      ]
    },
    {
      "cell_type": "code",
      "source": [],
      "metadata": {
        "id": "jRx3KxIoz9Bl"
      },
      "execution_count": 20,
      "outputs": []
    }
  ]
}