{
  "nbformat": 4,
  "nbformat_minor": 0,
  "metadata": {
    "colab": {
      "provenance": [],
      "mount_file_id": "1V1VeREnYQThYmREGoUWaJBytpnOVLHLb",
      "authorship_tag": "ABX9TyMjk0NE2oSmNltENa0zYYIK"
    },
    "kernelspec": {
      "name": "python3",
      "display_name": "Python 3"
    },
    "language_info": {
      "name": "python"
    }
  },
  "cells": [
    {
      "cell_type": "code",
      "source": [
        "!pip install -q pyscf"
      ],
      "metadata": {
        "colab": {
          "base_uri": "https://localhost:8080/"
        },
        "id": "O5npLbXgpZHz",
        "outputId": "173f7c7e-163d-4116-a739-c4608e59beff"
      },
      "execution_count": null,
      "outputs": [
        {
          "output_type": "stream",
          "name": "stdout",
          "text": [
            "\u001b[2K   \u001b[90m━━━━━━━━━━━━━━━━━━━━━━━━━━━━━━━━━━━━━━━━\u001b[0m \u001b[32m50.9/50.9 MB\u001b[0m \u001b[31m21.0 MB/s\u001b[0m eta \u001b[36m0:00:00\u001b[0m\n",
            "\u001b[?25h"
          ]
        }
      ]
    },
    {
      "cell_type": "code",
      "source": [
        "file_path = \"/content/drive/MyDrive/Colab Notebooks/QAE_finite_field/FCIDUMP\"\n",
        "\n",
        "# Read the file and store lines\n",
        "with open(file_path, \"r\") as file:\n",
        "    lines = file.readlines()\n",
        "\n",
        "# Ignore the first 6 lines\n",
        "lines = lines[6:]\n",
        "\n",
        "# Process the remaining lines\n",
        "parsed_data = []\n",
        "for line in lines:\n",
        "    parts = line.split()\n",
        "    if len(parts) == 5:  # Ensure there are exactly 5 columns\n",
        "        integral_value = float(parts[0])\n",
        "        p, q, r, s = map(int, parts[1:])\n",
        "        parsed_data.append([integral_value, p, q, r, s])\n",
        "        print(f\"Integral Value: {integral_value}, p: {p}, q: {q}, r: {r}, s: {s}\")\n",
        "\n",
        "# Save the parsed data to a new file\n",
        "output_path = \"/content/drive/MyDrive/Colab Notebooks/QAE_finite_field/FCIDUMP_out\"\n",
        "with open(output_path, \"w\") as file:\n",
        "    for data in parsed_data:\n",
        "        file.write(f\"{data[0]} {data[1]} {data[2]} {data[3]} {data[4]}\\n\")\n",
        "\n",
        "print(f\"Parsed file saved at: {output_path}\")\n"
      ],
      "metadata": {
        "id": "WJMm64b0x0Yd",
        "colab": {
          "base_uri": "https://localhost:8080/"
        },
        "outputId": "8ca02081-d954-4192-95bf-84eb37434ac6"
      },
      "execution_count": null,
      "outputs": [
        {
          "output_type": "stream",
          "name": "stdout",
          "text": [
            "Integral Value: 0.6757101469938736, p: 1, q: 1, r: 1, s: 1\n",
            "Integral Value: 0.6757101469938736, p: 2, q: 2, r: 2, s: 2\n",
            "Integral Value: 0.6645817196308036, p: 1, q: 1, r: 3, s: 3\n",
            "Integral Value: 0.6645817196308036, p: 2, q: 2, r: 4, s: 4\n",
            "Integral Value: 0.1809311953690519, p: 3, q: 1, r: 3, s: 1\n",
            "Integral Value: 0.1809311953690519, p: 4, q: 2, r: 4, s: 2\n",
            "Integral Value: 0.1809311953690519, p: 3, q: 1, r: 1, s: 3\n",
            "Integral Value: 0.1809311953690519, p: 4, q: 2, r: 2, s: 4\n",
            "Integral Value: 0.180931195369052, p: 1, q: 3, r: 3, s: 1\n",
            "Integral Value: 0.180931195369052, p: 2, q: 4, r: 4, s: 2\n",
            "Integral Value: 0.180931195369052, p: 1, q: 3, r: 1, s: 3\n",
            "Integral Value: 0.180931195369052, p: 2, q: 4, r: 2, s: 4\n",
            "Integral Value: 0.6645817196308038, p: 3, q: 3, r: 1, s: 1\n",
            "Integral Value: 0.6645817196308038, p: 4, q: 4, r: 2, s: 2\n",
            "Integral Value: 0.6985737090029313, p: 3, q: 3, r: 3, s: 3\n",
            "Integral Value: 0.6985737090029313, p: 4, q: 4, r: 4, s: 4\n",
            "Integral Value: -1.2563390698650005, p: 1, q: 1, r: 0, s: 0\n",
            "Integral Value: -1.7322220230154555e-17, p: 1, q: 3, r: 0, s: 0\n",
            "Integral Value: 0.0, p: 1, q: 2, r: 0, s: 0\n",
            "Integral Value: 0.0, p: 1, q: 4, r: 0, s: 0\n",
            "Integral Value: -1.5577070953811113e-17, p: 3, q: 1, r: 0, s: 0\n",
            "Integral Value: -0.47189601989248603, p: 3, q: 3, r: 0, s: 0\n",
            "Integral Value: 0.0, p: 3, q: 2, r: 0, s: 0\n",
            "Integral Value: 0.0, p: 3, q: 4, r: 0, s: 0\n",
            "Integral Value: 0.0, p: 2, q: 1, r: 0, s: 0\n",
            "Integral Value: 0.0, p: 2, q: 3, r: 0, s: 0\n",
            "Integral Value: -1.2563390698650005, p: 2, q: 2, r: 0, s: 0\n",
            "Integral Value: -1.7322220230154555e-17, p: 2, q: 4, r: 0, s: 0\n",
            "Integral Value: 0.0, p: 4, q: 1, r: 0, s: 0\n",
            "Integral Value: 0.0, p: 4, q: 3, r: 0, s: 0\n",
            "Integral Value: -1.5577070953811113e-17, p: 4, q: 2, r: 0, s: 0\n",
            "Integral Value: -0.47189601989248603, p: 4, q: 4, r: 0, s: 0\n",
            "Integral Value: -0.580628922871127, p: 1, q: 0, r: 0, s: 0\n",
            "Integral Value: 0.6763362240000695, p: 3, q: 0, r: 0, s: 0\n",
            "Integral Value: -0.580628922871127, p: 2, q: 0, r: 0, s: 0\n",
            "Integral Value: 0.6763362240000695, p: 4, q: 0, r: 0, s: 0\n",
            "Integral Value: 0.7199689944258503, p: 0, q: 0, r: 0, s: 0\n",
            "Parsed file saved at: /content/drive/MyDrive/Colab Notebooks/QAE_finite_field/FCIDUMP_out\n"
          ]
        }
      ]
    },
    {
      "cell_type": "code",
      "source": [
        "# Read the file and store lines\n",
        "with open(file_path, \"r\") as file:\n",
        "    lines = file.readlines()\n",
        "\n",
        "# Extract the first 6 lines as metadata\n",
        "metadata = {}\n",
        "for line in lines[:6]:\n",
        "    key_value = line.strip().split('=')\n",
        "    if len(key_value) == 2:\n",
        "        key, value = key_value[0].strip(), key_value[1].strip().rstrip(',')\n",
        "        if key == \"ORBSYM\":\n",
        "            metadata[key] = str([int(x) for x in value.split(',')])\n",
        "        else:\n",
        "            metadata[key] = int(value)\n",
        "            # print(key, value)\n",
        "\n",
        "# Ignore the first 6 lines for integral data processing\n",
        "lines = lines[6:]\n",
        "integral_dict ={}\n",
        "# Process the remaining lines\n",
        "parsed_data = []\n",
        "for line in lines:\n",
        "    parts = line.split()\n",
        "    if len(parts) == 5:  # Ensure there are exactly 5 columns\n",
        "        integral_value = float(parts[0])\n",
        "        p, q, r, s = map(int, parts[1:])\n",
        "        parsed_data.append([integral_value, p, q, r, s])\n",
        "\n",
        "\n",
        "output_path = \"/content/drive/MyDrive/Colab Notebooks/QAE_finite_field/FCIDUMP_out2\"\n",
        "with open(output_path, \"w\") as file:\n",
        "    # Write metadata\n",
        "    for key, value in metadata.items():\n",
        "        file.write(f\"{key}={value}\\n\")\n",
        "    file.write(\"\\n\")  # Separate metadata and integral data\n",
        "    # Write integral data\n",
        "    for data in parsed_data:\n",
        "        file.write(f\"{data[0]} {data[1]} {data[2]} {data[3]} {data[4]}\\n\")\n",
        "\n",
        "print(f\"Parsed file saved at: {output_path}\")\n"
      ],
      "metadata": {
        "id": "JDljS5C_z4pd",
        "colab": {
          "base_uri": "https://localhost:8080/"
        },
        "outputId": "52674b5d-f862-4288-f86d-e61c35d0d08c"
      },
      "execution_count": null,
      "outputs": [
        {
          "output_type": "stream",
          "name": "stdout",
          "text": [
            "Parsed file saved at: /content/drive/MyDrive/Colab Notebooks/QAE_finite_field/FCIDUMP_out2\n"
          ]
        }
      ]
    },
    {
      "cell_type": "code",
      "source": [
        "print(metadata)"
      ],
      "metadata": {
        "id": "1WwC5BXvz_mT",
        "colab": {
          "base_uri": "https://localhost:8080/"
        },
        "outputId": "c7304aba-a6fb-4569-e5be-203e02ad1ce2"
      },
      "execution_count": null,
      "outputs": [
        {
          "output_type": "stream",
          "name": "stdout",
          "text": [
            "{'&FCI NORB': 4, 'NELEC': 2, 'ORBSYM': '[1, 1, 2, 2]', 'ISYM': 8, 'IUHF': 1}\n"
          ]
        }
      ]
    },
    {
      "cell_type": "code",
      "source": [
        "from itertools import permutations\n",
        "\n",
        "# Compute HF state and generate all permutations\n",
        "NORB = metadata['&FCI NORB']\n",
        "NELEC = metadata['NELEC']\n",
        "\n",
        "# Generate initial HF state with NELEC ones and remaining zeros\n",
        "hf_state = \"1\" * NELEC + \"0\" * (NORB - NELEC)\n",
        "\n",
        "# Generate all unique permutations of the HF state\n",
        "unique_states = sorted(set(\"\".join(p) for p in permutations(hf_state)))\n",
        "\n",
        "# Print the generated states separately\n",
        "print(\"HF State:\", hf_state)\n",
        "print(\"Generated States:\")\n",
        "for state in unique_states:\n",
        "    print(state)\n"
      ],
      "metadata": {
        "id": "w4V7XaNs1fFl",
        "colab": {
          "base_uri": "https://localhost:8080/"
        },
        "outputId": "5ada498a-7ae6-48ff-95b0-d2721a6f6a50"
      },
      "execution_count": null,
      "outputs": [
        {
          "output_type": "stream",
          "name": "stdout",
          "text": [
            "HF State: 1100\n",
            "Generated States:\n",
            "0011\n",
            "0101\n",
            "0110\n",
            "1001\n",
            "1010\n",
            "1100\n"
          ]
        }
      ]
    },
    {
      "cell_type": "code",
      "source": [
        "print(parsed_data)"
      ],
      "metadata": {
        "id": "i0UE-8GNT6ak",
        "colab": {
          "base_uri": "https://localhost:8080/"
        },
        "outputId": "a3d2aff3-21a2-476c-f4f3-16b6aeca08c4"
      },
      "execution_count": null,
      "outputs": [
        {
          "output_type": "stream",
          "name": "stdout",
          "text": [
            "[[0.6757101469938736, 1, 1, 1, 1], [0.6757101469938736, 2, 2, 2, 2], [0.6645817196308036, 1, 1, 3, 3], [0.6645817196308036, 2, 2, 4, 4], [0.1809311953690519, 3, 1, 3, 1], [0.1809311953690519, 4, 2, 4, 2], [0.1809311953690519, 3, 1, 1, 3], [0.1809311953690519, 4, 2, 2, 4], [0.180931195369052, 1, 3, 3, 1], [0.180931195369052, 2, 4, 4, 2], [0.180931195369052, 1, 3, 1, 3], [0.180931195369052, 2, 4, 2, 4], [0.6645817196308038, 3, 3, 1, 1], [0.6645817196308038, 4, 4, 2, 2], [0.6985737090029313, 3, 3, 3, 3], [0.6985737090029313, 4, 4, 4, 4], [-1.2563390698650005, 1, 1, 0, 0], [-1.7322220230154555e-17, 1, 3, 0, 0], [0.0, 1, 2, 0, 0], [0.0, 1, 4, 0, 0], [-1.5577070953811113e-17, 3, 1, 0, 0], [-0.47189601989248603, 3, 3, 0, 0], [0.0, 3, 2, 0, 0], [0.0, 3, 4, 0, 0], [0.0, 2, 1, 0, 0], [0.0, 2, 3, 0, 0], [-1.2563390698650005, 2, 2, 0, 0], [-1.7322220230154555e-17, 2, 4, 0, 0], [0.0, 4, 1, 0, 0], [0.0, 4, 3, 0, 0], [-1.5577070953811113e-17, 4, 2, 0, 0], [-0.47189601989248603, 4, 4, 0, 0], [-0.580628922871127, 1, 0, 0, 0], [0.6763362240000695, 3, 0, 0, 0], [-0.580628922871127, 2, 0, 0, 0], [0.6763362240000695, 4, 0, 0, 0], [0.7199689944258503, 0, 0, 0, 0]]\n"
          ]
        }
      ]
    },
    {
      "cell_type": "code",
      "source": [
        "integral_data = []\n",
        "for data in parsed_data:\n",
        "\n",
        "    if data[3] == 0 and data[4]==0:\n",
        "        break\n",
        "    print(data)\n",
        "    integral_data.append(data)\n"
      ],
      "metadata": {
        "id": "WtjQ8As_UEV1",
        "colab": {
          "base_uri": "https://localhost:8080/"
        },
        "outputId": "e72a54fc-2b37-4836-f38a-7d51eaa5ff42"
      },
      "execution_count": null,
      "outputs": [
        {
          "output_type": "stream",
          "name": "stdout",
          "text": [
            "[0.6757101469938736, 1, 1, 1, 1]\n",
            "[0.6757101469938736, 2, 2, 2, 2]\n",
            "[0.6645817196308036, 1, 1, 3, 3]\n",
            "[0.6645817196308036, 2, 2, 4, 4]\n",
            "[0.1809311953690519, 3, 1, 3, 1]\n",
            "[0.1809311953690519, 4, 2, 4, 2]\n",
            "[0.1809311953690519, 3, 1, 1, 3]\n",
            "[0.1809311953690519, 4, 2, 2, 4]\n",
            "[0.180931195369052, 1, 3, 3, 1]\n",
            "[0.180931195369052, 2, 4, 4, 2]\n",
            "[0.180931195369052, 1, 3, 1, 3]\n",
            "[0.180931195369052, 2, 4, 2, 4]\n",
            "[0.6645817196308038, 3, 3, 1, 1]\n",
            "[0.6645817196308038, 4, 4, 2, 2]\n",
            "[0.6985737090029313, 3, 3, 3, 3]\n",
            "[0.6985737090029313, 4, 4, 4, 4]\n"
          ]
        }
      ]
    },
    {
      "cell_type": "code",
      "source": [
        "list(unique_states[0])"
      ],
      "metadata": {
        "id": "aKlBEQNGendr",
        "colab": {
          "base_uri": "https://localhost:8080/"
        },
        "outputId": "b96c4c93-2adb-41f1-9b86-0a979a91a63b"
      },
      "execution_count": null,
      "outputs": [
        {
          "output_type": "execute_result",
          "data": {
            "text/plain": [
              "['0', '0', '1', '1']"
            ]
          },
          "metadata": {},
          "execution_count": 7
        }
      ]
    },
    {
      "cell_type": "code",
      "source": [
        "# state = list(unique_states[0])  # Convert string to list\n",
        "state  = ['0', '1', '1', '0']\n",
        "print(state)\n",
        "print(\"Initial State:\", \"\".join(state))\n",
        "\n",
        "operator = [1,1,2,3,4]\n",
        "print(\"Operator:\", operator)\n",
        "\n",
        "print(\"----------------------------------------\\n\\n\")\n",
        "sign = 1\n",
        "for i in range(4, 0, -1):\n",
        "    # Count the number of '1's before index (operator[i] - 1)\n",
        "    num_ones = state[:operator[i] - 1].count(\"1\")\n",
        "    if i == 3 or i == 4:\n",
        "        # print(operator[i], \"\".join(state))  # Print state as string\n",
        "        if state[operator[i] - 1] == \"1\":\n",
        "            sign *= (-1) ** num_ones  # Apply phase factor\n",
        "            state[operator[i] - 1] = \"0\"\n",
        "        else:\n",
        "            sign *= 0\n",
        "            # break\n",
        "    else:\n",
        "        # print(operator[i], \"\".join(state))  # Print state as string\n",
        "        if state[operator[i] - 1] == \"0\":\n",
        "            sign *= (-1) ** num_ones  # Apply phase factor\n",
        "            state[operator[i] - 1] = \"1\"\n",
        "        else:\n",
        "            sign *= 0\n",
        "            # break\n",
        "    print(\"Modified State:\", \"\".join(state), sign, \"\\n\")  # Print state as string\n",
        "\n",
        "print(state)\n"
      ],
      "metadata": {
        "id": "_D23Cy8-Uzlk",
        "colab": {
          "base_uri": "https://localhost:8080/"
        },
        "outputId": "897bef87-f797-4ce6-f204-2e08488e5cc9"
      },
      "execution_count": null,
      "outputs": [
        {
          "output_type": "stream",
          "name": "stdout",
          "text": [
            "['0', '1', '1', '0']\n",
            "Initial State: 0110\n",
            "Operator: [1, 1, 2, 3, 4]\n",
            "----------------------------------------\n",
            "\n",
            "\n",
            "Modified State: 0110 0 \n",
            "\n",
            "Modified State: 0100 0 \n",
            "\n",
            "Modified State: 0100 0 \n",
            "\n",
            "Modified State: 1100 0 \n",
            "\n",
            "['1', '1', '0', '0']\n"
          ]
        }
      ]
    },
    {
      "cell_type": "code",
      "source": [
        "# state = list(unique_states[0])  # Convert string to list\n",
        "state  = ['0', '1', '1', '0']\n",
        "print(state)\n",
        "print(\"Initial State:\", \"\".join(state))\n",
        "\n",
        "operator = [1,1,2,0,0]\n",
        "print(\"Operator:\", operator)\n",
        "\n",
        "print(\"----------------------------------------\\n\\n\")\n",
        "\n",
        "def action(operator, state):\n",
        "    sign = 1\n",
        "    if operator[-1]==0 or operator[-2]==0:\n",
        "        # print(\"onebody operator\")\n",
        "        for i in range(2, 0,-1):\n",
        "            # Count the number of '1's before index (operator[i] - 1)\n",
        "            num_ones = state[:operator[i] - 1].count(\"1\")\n",
        "            # print(i, operator[i])\n",
        "            if i==2:\n",
        "                if state[operator[i]-1]==\"1\":\n",
        "                    sign *= (-1)**num_ones\n",
        "                    state[operator[i]-1]=\"0\"\n",
        "                else:\n",
        "                    sign *= 0\n",
        "\n",
        "            else:\n",
        "                if state[operator[i]-1]==\"0\":\n",
        "                    sign *= (-1)**num_ones\n",
        "                    state[operator[i]-1]=\"1\"\n",
        "                else:\n",
        "                    sign *= 0\n",
        "            # print(\"Modified State:\", \"\".join(state), sign, \"\\n\")\n",
        "    else:\n",
        "        # print(\"twobody operator\")\n",
        "        for i in range(4, 0, -1):\n",
        "            # Count the number of '1's before index (operator[i] - 1)\n",
        "            num_ones = state[:operator[i] - 1].count(\"1\")\n",
        "            if i == 3 or i == 4:\n",
        "                # print(operator[i], \"\".join(state))  # Print state as string\n",
        "                if state[operator[i] - 1] == \"1\":\n",
        "                    sign *= (-1) ** num_ones  # Apply phase factor\n",
        "                    state[operator[i] - 1] = \"0\"\n",
        "                else:\n",
        "                    sign *= 0\n",
        "                    # break\n",
        "            else:\n",
        "                # print(operator[i], \"\".join(state))  # Print state as string\n",
        "                if state[operator[i] - 1] == \"0\":\n",
        "                    sign *= (-1) ** num_ones  # Apply phase factor\n",
        "                    state[operator[i] - 1] = \"1\"\n",
        "                else:\n",
        "                    sign *= 0\n",
        "                    # break\n",
        "            # print(\"Modified State:\", \"\".join(state), sign, \"\\n\")  # Print state as string\n",
        "        sign = sign * (-1)\n",
        "    return state, sign\n",
        "\n",
        "state, sign = action(operator, state)\n",
        "print(state)\n",
        "print(sign)\n"
      ],
      "metadata": {
        "id": "QoT-m3h87Qdv",
        "colab": {
          "base_uri": "https://localhost:8080/"
        },
        "outputId": "c48d1cee-3646-4f21-a650-1b707db47b63"
      },
      "execution_count": null,
      "outputs": [
        {
          "output_type": "stream",
          "name": "stdout",
          "text": [
            "['0', '1', '1', '0']\n",
            "Initial State: 0110\n",
            "Operator: [1, 1, 2, 0, 0]\n",
            "----------------------------------------\n",
            "\n",
            "\n",
            "['1', '0', '1', '0']\n",
            "1\n"
          ]
        }
      ]
    },
    {
      "cell_type": "code",
      "source": [
        "print(state)\n",
        "print(sign)"
      ],
      "metadata": {
        "id": "PN23ThC0-sG7",
        "colab": {
          "base_uri": "https://localhost:8080/"
        },
        "outputId": "bb7a3381-5142-4c47-d5f8-95f699a699e5"
      },
      "execution_count": null,
      "outputs": [
        {
          "output_type": "stream",
          "name": "stdout",
          "text": [
            "['1', '0', '1', '0']\n",
            "1\n"
          ]
        }
      ]
    },
    {
      "cell_type": "code",
      "source": [
        "state1 = ['0', '0', '1', '1']\n",
        "state2 = ['1', '0', '1', '0']\n",
        "operator = [0.656656, 1, 4, 0, 0]\n",
        "def overlap(state_1, state_2, operator):\n",
        "    # print(state_1, state_2)\n",
        "    state_1, sign_1 = action(operator, state_1)\n",
        "    # state_2, sign_2 = action(operator, list(state_2))\n",
        "    # print(state_1, sign_1)\n",
        "    if state_1==state_2:\n",
        "        # print(\"sign\", sign_1)\n",
        "        # print(\"Sign Of Operation: \", sign_1)\n",
        "        return sign_1 * operator[0]\n",
        "    else:\n",
        "        return 0\n",
        "    # print(state_1, state_2)\n",
        "\n",
        "value  = overlap(state1, state2, operator=operator)"
      ],
      "metadata": {
        "id": "7WQ4DLuJBSCr"
      },
      "execution_count": null,
      "outputs": []
    },
    {
      "cell_type": "code",
      "source": [
        "value"
      ],
      "metadata": {
        "id": "olqRdC1uDjDx",
        "colab": {
          "base_uri": "https://localhost:8080/"
        },
        "outputId": "25de37a1-85ed-4185-c78d-11e9f39bc18e"
      },
      "execution_count": null,
      "outputs": [
        {
          "output_type": "execute_result",
          "data": {
            "text/plain": [
              "-0.656656"
            ]
          },
          "metadata": {},
          "execution_count": 12
        }
      ]
    },
    {
      "cell_type": "code",
      "source": [
        "integral_data = []\n",
        "for data in parsed_data:\n",
        "\n",
        "    if data[2] == 0:\n",
        "        break\n",
        "    print(data)\n",
        "    integral_data.append(data)"
      ],
      "metadata": {
        "id": "i6eFQoD6RETV",
        "colab": {
          "base_uri": "https://localhost:8080/"
        },
        "outputId": "e50df310-e3ab-4123-bd7d-201e1984c942"
      },
      "execution_count": null,
      "outputs": [
        {
          "output_type": "stream",
          "name": "stdout",
          "text": [
            "[0.6757101469938736, 1, 1, 1, 1]\n",
            "[0.6757101469938736, 2, 2, 2, 2]\n",
            "[0.6645817196308036, 1, 1, 3, 3]\n",
            "[0.6645817196308036, 2, 2, 4, 4]\n",
            "[0.1809311953690519, 3, 1, 3, 1]\n",
            "[0.1809311953690519, 4, 2, 4, 2]\n",
            "[0.1809311953690519, 3, 1, 1, 3]\n",
            "[0.1809311953690519, 4, 2, 2, 4]\n",
            "[0.180931195369052, 1, 3, 3, 1]\n",
            "[0.180931195369052, 2, 4, 4, 2]\n",
            "[0.180931195369052, 1, 3, 1, 3]\n",
            "[0.180931195369052, 2, 4, 2, 4]\n",
            "[0.6645817196308038, 3, 3, 1, 1]\n",
            "[0.6645817196308038, 4, 4, 2, 2]\n",
            "[0.6985737090029313, 3, 3, 3, 3]\n",
            "[0.6985737090029313, 4, 4, 4, 4]\n",
            "[-1.2563390698650005, 1, 1, 0, 0]\n",
            "[-1.7322220230154555e-17, 1, 3, 0, 0]\n",
            "[0.0, 1, 2, 0, 0]\n",
            "[0.0, 1, 4, 0, 0]\n",
            "[-1.5577070953811113e-17, 3, 1, 0, 0]\n",
            "[-0.47189601989248603, 3, 3, 0, 0]\n",
            "[0.0, 3, 2, 0, 0]\n",
            "[0.0, 3, 4, 0, 0]\n",
            "[0.0, 2, 1, 0, 0]\n",
            "[0.0, 2, 3, 0, 0]\n",
            "[-1.2563390698650005, 2, 2, 0, 0]\n",
            "[-1.7322220230154555e-17, 2, 4, 0, 0]\n",
            "[0.0, 4, 1, 0, 0]\n",
            "[0.0, 4, 3, 0, 0]\n",
            "[-1.5577070953811113e-17, 4, 2, 0, 0]\n",
            "[-0.47189601989248603, 4, 4, 0, 0]\n"
          ]
        }
      ]
    },
    {
      "cell_type": "code",
      "source": [
        "# import the library\n",
        "import numpy as np\n",
        "\n",
        "# Here 4 is the number of rows and 2\n",
        "# is the number of columns\n",
        "hamiltonian = np.empty((len(unique_states), len(unique_states)))\n",
        "\n",
        "for i, states_1 in enumerate(unique_states):\n",
        "    # print(list(states_1))\n",
        "    for j, states_2 in enumerate(unique_states):\n",
        "        sum = 0\n",
        "        for ops in integral_data:\n",
        "            value  = overlap(list(states_1), list(states_2), ops)\n",
        "            sum += value\n",
        "        hamiltonian[i][j] = sum\n",
        "        # print(list(states_1), list(states_2), integral_data[0])\n",
        "        value  = overlap(list(states_1), list(states_2), integral_data[0])\n",
        "        # print(sum, \"\\n\")\n",
        "        # print(states_1, states_2)\n",
        "\n"
      ],
      "metadata": {
        "id": "D4NepFNJiAL2"
      },
      "execution_count": null,
      "outputs": []
    },
    {
      "cell_type": "code",
      "source": [
        "hamiltonian"
      ],
      "metadata": {
        "id": "-KR6IY4djryE",
        "colab": {
          "base_uri": "https://localhost:8080/"
        },
        "outputId": "e250870f-938a-44a2-eb8c-c0b43d4e96ce"
      },
      "execution_count": null,
      "outputs": [
        {
          "output_type": "execute_result",
          "data": {
            "text/plain": [
              "array([[-9.43792040e-01,  0.00000000e+00,  1.73222202e-17,\n",
              "        -1.73222202e-17,  0.00000000e+00,  0.00000000e+00],\n",
              "       [ 0.00000000e+00, -1.72823509e+00,  0.00000000e+00,\n",
              "         0.00000000e+00,  0.00000000e+00,  0.00000000e+00],\n",
              "       [ 1.55770710e-17,  0.00000000e+00, -1.72823509e+00,\n",
              "         0.00000000e+00,  0.00000000e+00,  1.73222202e-17],\n",
              "       [-1.55770710e-17,  0.00000000e+00,  0.00000000e+00,\n",
              "        -1.72823509e+00,  0.00000000e+00, -1.73222202e-17],\n",
              "       [ 0.00000000e+00,  0.00000000e+00,  0.00000000e+00,\n",
              "         0.00000000e+00, -1.72823509e+00,  0.00000000e+00],\n",
              "       [ 0.00000000e+00,  0.00000000e+00,  1.55770710e-17,\n",
              "        -1.55770710e-17,  0.00000000e+00, -2.51267814e+00]])"
            ]
          },
          "metadata": {},
          "execution_count": 15
        }
      ]
    },
    {
      "cell_type": "code",
      "source": [
        "from scipy.linalg import eigh\n",
        "eignvalue , eignvector = eigh(hamiltonian)\n",
        "print(eignvalue)"
      ],
      "metadata": {
        "id": "RDdXQygewBzm",
        "colab": {
          "base_uri": "https://localhost:8080/"
        },
        "outputId": "b37f6e63-349a-45c2-f98f-2b72bc1e4b91"
      },
      "execution_count": null,
      "outputs": [
        {
          "output_type": "stream",
          "name": "stdout",
          "text": [
            "[-2.51267814 -1.72823509 -1.72823509 -1.72823509 -1.72823509 -0.94379204]\n"
          ]
        }
      ]
    },
    {
      "cell_type": "code",
      "source": [
        "from pyscf.tools import fcidump\n",
        "\n",
        "# Load the FCIDUMP file\n",
        "fcidump_data = fcidump.read(file_path)\n",
        "\n",
        "\n"
      ],
      "metadata": {
        "id": "FUece9WQJtOB",
        "colab": {
          "base_uri": "https://localhost:8080/"
        },
        "outputId": "433b96a2-517a-4cf5-dc6b-0eec7d7cf438"
      },
      "execution_count": null,
      "outputs": [
        {
          "output_type": "stream",
          "name": "stdout",
          "text": [
            "Parsing /content/drive/MyDrive/Colab Notebooks/QAE_finite_field/FCIDUMP\n"
          ]
        }
      ]
    },
    {
      "cell_type": "code",
      "source": [
        "fcidump_data"
      ],
      "metadata": {
        "colab": {
          "base_uri": "https://localhost:8080/"
        },
        "id": "Lt9xRjk0p1kk",
        "outputId": "cfc9bad3-e886-4faf-a991-9ea1f2203a88"
      },
      "execution_count": null,
      "outputs": [
        {
          "output_type": "execute_result",
          "data": {
            "text/plain": [
              "{'NORB': 4,\n",
              " 'NELEC': 2,\n",
              " 'ORBSYM': [1, 1, 2, 2],\n",
              " 'ISYM': 8,\n",
              " 'IUHF': '1,',\n",
              " 'ECORE': 0.7199689944258503,\n",
              " 'H1': array([[-1.25633907e+00,  0.00000000e+00, -1.73222202e-17,\n",
              "          0.00000000e+00],\n",
              "        [ 0.00000000e+00, -1.25633907e+00,  0.00000000e+00,\n",
              "         -1.73222202e-17],\n",
              "        [-1.55770710e-17,  0.00000000e+00, -4.71896020e-01,\n",
              "          0.00000000e+00],\n",
              "        [ 0.00000000e+00, -1.55770710e-17,  0.00000000e+00,\n",
              "         -4.71896020e-01]]),\n",
              " 'H2': array([0.67571015, 0.        , 0.        , 0.        , 0.        ,\n",
              "        0.67571015, 0.        , 0.        , 0.        , 0.1809312 ,\n",
              "        0.        , 0.        , 0.        , 0.        , 0.        ,\n",
              "        0.66458172, 0.        , 0.        , 0.        , 0.        ,\n",
              "        0.69857371, 0.        , 0.        , 0.        , 0.        ,\n",
              "        0.        , 0.        , 0.        , 0.        , 0.        ,\n",
              "        0.        , 0.        , 0.        , 0.        , 0.        ,\n",
              "        0.1809312 , 0.        , 0.        , 0.        , 0.        ,\n",
              "        0.        , 0.        , 0.        , 0.        , 0.        ,\n",
              "        0.        , 0.        , 0.66458172, 0.        , 0.        ,\n",
              "        0.        , 0.        , 0.        , 0.        , 0.69857371])}"
            ]
          },
          "metadata": {},
          "execution_count": 22
        }
      ]
    }
  ]
}